{
 "cells": [
  {
   "cell_type": "code",
   "execution_count": 29,
   "metadata": {},
   "outputs": [],
   "source": [
    "import pandas as pd\n",
    "import numpy as np\n",
    "import seaborn as sns\n",
    "import matplotlib.pyplot as plt\n",
    "from  pandas_datareader import data as  web\n",
    "import datetime as dt\n",
    "from matplotlib import style\n",
    "from numpy.linalg import inv"
   ]
  },
  {
   "cell_type": "code",
   "execution_count": 30,
   "metadata": {},
   "outputs": [],
   "source": [
    "def list_idx30_tickers():\n",
    "    df_companies=pd.read_html('https://market.bisnis.com/read/20200930/192/1298715/9-bulan-kapitalisasi-pasar-10-big-caps-susut-rp87118-triliun')\n",
    "    tickers=df_companies[3]+str('.JK')\n",
    "    tickers= tickers.loc[:,3].iloc[1:].iloc[:5]\n",
    "    return tickers\n",
    "\n",
    "\n",
    "list_idx30_tickers()\n",
    "idx30= list_idx30_tickers().tolist()\n"
   ]
  },
  {
   "cell_type": "code",
   "execution_count": 31,
   "metadata": {},
   "outputs": [],
   "source": [
    "startdate='2010-09-30'\n",
    "enddate='2020-09-30'"
   ]
  },
  {
   "cell_type": "code",
   "execution_count": 32,
   "metadata": {},
   "outputs": [
    {
     "data": {
      "text/html": [
       "<div>\n",
       "<style scoped>\n",
       "    .dataframe tbody tr th:only-of-type {\n",
       "        vertical-align: middle;\n",
       "    }\n",
       "\n",
       "    .dataframe tbody tr th {\n",
       "        vertical-align: top;\n",
       "    }\n",
       "\n",
       "    .dataframe thead th {\n",
       "        text-align: right;\n",
       "    }\n",
       "</style>\n",
       "<table border=\"1\" class=\"dataframe\">\n",
       "  <thead>\n",
       "    <tr style=\"text-align: right;\">\n",
       "      <th></th>\n",
       "      <th>BBCA.JK</th>\n",
       "      <th>BBRI.JK</th>\n",
       "      <th>UNVR.JK</th>\n",
       "      <th>TLKM.JK</th>\n",
       "      <th>BMRI.JK</th>\n",
       "    </tr>\n",
       "  </thead>\n",
       "  <tbody>\n",
       "    <tr>\n",
       "      <th>2010-09-30</th>\n",
       "      <td>5819.299316</td>\n",
       "      <td>360.612488</td>\n",
       "      <td>1423.558228</td>\n",
       "      <td>777.362488</td>\n",
       "      <td>2311.602051</td>\n",
       "    </tr>\n",
       "    <tr>\n",
       "      <th>2010-10-01</th>\n",
       "      <td>6079.863281</td>\n",
       "      <td>362.415466</td>\n",
       "      <td>1444.679443</td>\n",
       "      <td>794.261597</td>\n",
       "      <td>2199.231445</td>\n",
       "    </tr>\n",
       "    <tr>\n",
       "      <th>2010-10-04</th>\n",
       "      <td>5949.582031</td>\n",
       "      <td>373.233887</td>\n",
       "      <td>1474.249023</td>\n",
       "      <td>806.936035</td>\n",
       "      <td>2247.391357</td>\n",
       "    </tr>\n",
       "    <tr>\n",
       "      <th>2010-10-05</th>\n",
       "      <td>5906.154297</td>\n",
       "      <td>382.249176</td>\n",
       "      <td>1465.800415</td>\n",
       "      <td>828.059998</td>\n",
       "      <td>2231.339600</td>\n",
       "    </tr>\n",
       "    <tr>\n",
       "      <th>2010-10-06</th>\n",
       "      <td>5993.009277</td>\n",
       "      <td>382.249176</td>\n",
       "      <td>1470.024536</td>\n",
       "      <td>802.711243</td>\n",
       "      <td>2247.391357</td>\n",
       "    </tr>\n",
       "  </tbody>\n",
       "</table>\n",
       "</div>"
      ],
      "text/plain": [
       "                BBCA.JK     BBRI.JK      UNVR.JK     TLKM.JK      BMRI.JK\n",
       "2010-09-30  5819.299316  360.612488  1423.558228  777.362488  2311.602051\n",
       "2010-10-01  6079.863281  362.415466  1444.679443  794.261597  2199.231445\n",
       "2010-10-04  5949.582031  373.233887  1474.249023  806.936035  2247.391357\n",
       "2010-10-05  5906.154297  382.249176  1465.800415  828.059998  2231.339600\n",
       "2010-10-06  5993.009277  382.249176  1470.024536  802.711243  2247.391357"
      ]
     },
     "execution_count": 32,
     "metadata": {},
     "output_type": "execute_result"
    }
   ],
   "source": [
    "df=pd.DataFrame()\n",
    "for i in idx30:\n",
    "    df[i]=web.DataReader(i, data_source='yahoo', start=startdate, end=enddate)['Adj Close']\n",
    "    \n",
    "    \n",
    "df.head()"
   ]
  },
  {
   "cell_type": "code",
   "execution_count": 33,
   "metadata": {},
   "outputs": [
    {
     "data": {
      "text/html": [
       "<div>\n",
       "<style scoped>\n",
       "    .dataframe tbody tr th:only-of-type {\n",
       "        vertical-align: middle;\n",
       "    }\n",
       "\n",
       "    .dataframe tbody tr th {\n",
       "        vertical-align: top;\n",
       "    }\n",
       "\n",
       "    .dataframe thead th {\n",
       "        text-align: right;\n",
       "    }\n",
       "</style>\n",
       "<table border=\"1\" class=\"dataframe\">\n",
       "  <thead>\n",
       "    <tr style=\"text-align: right;\">\n",
       "      <th></th>\n",
       "      <th>BBCA.JK</th>\n",
       "      <th>BBRI.JK</th>\n",
       "      <th>UNVR.JK</th>\n",
       "      <th>TLKM.JK</th>\n",
       "      <th>BMRI.JK</th>\n",
       "    </tr>\n",
       "  </thead>\n",
       "  <tbody>\n",
       "    <tr>\n",
       "      <th>BBCA.JK</th>\n",
       "      <td>0.066380</td>\n",
       "      <td>0.050135</td>\n",
       "      <td>0.031225</td>\n",
       "      <td>0.031031</td>\n",
       "      <td>0.049429</td>\n",
       "    </tr>\n",
       "    <tr>\n",
       "      <th>BBRI.JK</th>\n",
       "      <td>0.050135</td>\n",
       "      <td>0.128869</td>\n",
       "      <td>0.037338</td>\n",
       "      <td>0.043964</td>\n",
       "      <td>0.083035</td>\n",
       "    </tr>\n",
       "    <tr>\n",
       "      <th>UNVR.JK</th>\n",
       "      <td>0.031225</td>\n",
       "      <td>0.037338</td>\n",
       "      <td>0.097871</td>\n",
       "      <td>0.030157</td>\n",
       "      <td>0.038145</td>\n",
       "    </tr>\n",
       "    <tr>\n",
       "      <th>TLKM.JK</th>\n",
       "      <td>0.031031</td>\n",
       "      <td>0.043964</td>\n",
       "      <td>0.030157</td>\n",
       "      <td>0.094295</td>\n",
       "      <td>0.041549</td>\n",
       "    </tr>\n",
       "    <tr>\n",
       "      <th>BMRI.JK</th>\n",
       "      <td>0.049429</td>\n",
       "      <td>0.083035</td>\n",
       "      <td>0.038145</td>\n",
       "      <td>0.041549</td>\n",
       "      <td>0.118137</td>\n",
       "    </tr>\n",
       "  </tbody>\n",
       "</table>\n",
       "</div>"
      ],
      "text/plain": [
       "          BBCA.JK   BBRI.JK   UNVR.JK   TLKM.JK   BMRI.JK\n",
       "BBCA.JK  0.066380  0.050135  0.031225  0.031031  0.049429\n",
       "BBRI.JK  0.050135  0.128869  0.037338  0.043964  0.083035\n",
       "UNVR.JK  0.031225  0.037338  0.097871  0.030157  0.038145\n",
       "TLKM.JK  0.031031  0.043964  0.030157  0.094295  0.041549\n",
       "BMRI.JK  0.049429  0.083035  0.038145  0.041549  0.118137"
      ]
     },
     "execution_count": 33,
     "metadata": {},
     "output_type": "execute_result"
    }
   ],
   "source": [
    "returns = np.log(df/df.shift(1))\n",
    "cov_mat= returns.cov()*252\n",
    "cov_mat"
   ]
  },
  {
   "cell_type": "code",
   "execution_count": 34,
   "metadata": {},
   "outputs": [],
   "source": [
    "Sigma = np.array([[0.066426, 0.050217, 0.031185,0.031210,0.049536],[0.050217, 0.128962, 0.037284,0.044219, 0.083181],\n",
    "                   [0.031185, 0.037284, 0.097842, 0.030073, 0.038082], [0.031210,0.044219, 0.030073,0.094769, 0.041870 ],\n",
    "                  [0.049536,0.083181,0.038082,0.041870, 0.118312 ]])\n",
    "\n",
    "delta = 2.5\n",
    "tau = 0.05\n",
    "w = np.array([[0.366, 0.202, 0.164, 0.14, 0.128]]).T# based on market cap\n",
    "P = np.array([[1,0,-1,0,0],\n",
    "              [0,-0.75, 0, -0.25,1]])\n",
    "Q = np.array([[0.05], [0.03]])"
   ]
  },
  {
   "cell_type": "code",
   "execution_count": 59,
   "metadata": {},
   "outputs": [],
   "source": [
    "def implied_return(delta,Sigma, w):\n",
    "    ir = delta*Sigma.dot(w)\n",
    "    return ir\n",
    "\n",
    "\n",
    "def confidence_matrix(P,tau,Sigma):\n",
    "    con_mat =  np.diag(P.dot(tau*Sigma).dot(P.T))\n",
    "    return con_mat\n",
    "\n",
    "\n",
    "def bl ( delta, tau, Sigma, P, Q):\n",
    "    omega = confidence_matrix(P,tau,Sigma) \n",
    "    pi = implied_return(delta,Sigma,w)\n",
    "    posterior_r = pi + np.dot( np.dot( tau*np.dot(Sigma,P.T), np.linalg.inv(tau*np.dot(np.dot(P,Sigma),P.T)+omega)), \n",
    "                              (Q-np.dot(P,pi)))\n",
    "    \n",
    "    posterior_s = Sigma +tau*Sigma-tau*np.dot( np.dot( np.dot(Sigma,P.T), np.linalg.inv(tau*np.dot(np.dot(P,Sigma),P.T)+omega)),\n",
    "                                                 tau*np.dot(P,Sigma))\n",
    "    \n",
    "    posterior_w = np.dot(np.linalg.inv(delta*posterior_s), posterior_r)\n",
    "    \n",
    "    return (posterior_r, posterior_s,posterior_w)"
   ]
  },
  {
   "cell_type": "code",
   "execution_count": 60,
   "metadata": {},
   "outputs": [
    {
     "data": {
      "text/plain": [
       "(array([[0.13081237],\n",
       "        [0.16751171],\n",
       "        [0.10163361],\n",
       "        [0.1083162 ],\n",
       "        [0.16189159]]),\n",
       " array([[0.06938833, 0.05249355, 0.03346372, 0.03269948, 0.05206964],\n",
       "        [0.05241649, 0.1349187 , 0.03988603, 0.04620137, 0.08787686],\n",
       "        [0.03349414, 0.03975144, 0.10118619, 0.03179093, 0.03967488],\n",
       "        [0.03265483, 0.04618747, 0.03187441, 0.0993878 , 0.04426431],\n",
       "        [0.05220001, 0.08794975, 0.03941841, 0.04428303, 0.12337324]]),\n",
       " array([[0.40212838],\n",
       "        [0.16234489],\n",
       "        [0.10263352],\n",
       "        [0.12332131],\n",
       "        [0.16195285]]))"
      ]
     },
     "execution_count": 60,
     "metadata": {},
     "output_type": "execute_result"
    }
   ],
   "source": [
    "r_posterior, s_posterior_s, weight_new = bl ( delta, tau, Sigma, P, Q)\n",
    "r_posterior, s_posterior_s, weight_new"
   ]
  },
  {
   "cell_type": "code",
   "execution_count": 63,
   "metadata": {},
   "outputs": [],
   "source": [
    "df = pd.DataFrame([w.reshape(5),weight_new.reshape(5)],\n",
    "                  columns=['BBCA.JK','BBRI.JK','UNVR.JK','TLKM.JK','BMRI.JK'],\n",
    "                  index=['Initial Weights','Posterior Weights'])"
   ]
  },
  {
   "cell_type": "code",
   "execution_count": 64,
   "metadata": {},
   "outputs": [
    {
     "data": {
      "text/html": [
       "<div>\n",
       "<style scoped>\n",
       "    .dataframe tbody tr th:only-of-type {\n",
       "        vertical-align: middle;\n",
       "    }\n",
       "\n",
       "    .dataframe tbody tr th {\n",
       "        vertical-align: top;\n",
       "    }\n",
       "\n",
       "    .dataframe thead th {\n",
       "        text-align: right;\n",
       "    }\n",
       "</style>\n",
       "<table border=\"1\" class=\"dataframe\">\n",
       "  <thead>\n",
       "    <tr style=\"text-align: right;\">\n",
       "      <th></th>\n",
       "      <th>BBCA.JK</th>\n",
       "      <th>BBRI.JK</th>\n",
       "      <th>UNVR.JK</th>\n",
       "      <th>TLKM.JK</th>\n",
       "      <th>BMRI.JK</th>\n",
       "    </tr>\n",
       "  </thead>\n",
       "  <tbody>\n",
       "    <tr>\n",
       "      <th>Initial Weights</th>\n",
       "      <td>0.366000</td>\n",
       "      <td>0.202000</td>\n",
       "      <td>0.164000</td>\n",
       "      <td>0.140000</td>\n",
       "      <td>0.128000</td>\n",
       "    </tr>\n",
       "    <tr>\n",
       "      <th>Posterior Weights</th>\n",
       "      <td>0.402128</td>\n",
       "      <td>0.162345</td>\n",
       "      <td>0.102634</td>\n",
       "      <td>0.123321</td>\n",
       "      <td>0.161953</td>\n",
       "    </tr>\n",
       "  </tbody>\n",
       "</table>\n",
       "</div>"
      ],
      "text/plain": [
       "                    BBCA.JK   BBRI.JK   UNVR.JK   TLKM.JK   BMRI.JK\n",
       "Initial Weights    0.366000  0.202000  0.164000  0.140000  0.128000\n",
       "Posterior Weights  0.402128  0.162345  0.102634  0.123321  0.161953"
      ]
     },
     "execution_count": 64,
     "metadata": {},
     "output_type": "execute_result"
    }
   ],
   "source": [
    "df"
   ]
  },
  {
   "cell_type": "code",
   "execution_count": 65,
   "metadata": {},
   "outputs": [
    {
     "data": {
      "text/plain": [
       "<AxesSubplot:>"
      ]
     },
     "execution_count": 65,
     "metadata": {},
     "output_type": "execute_result"
    },
    {
     "data": {
      "image/png": "[encoded data removed]",
      "text/plain": [
       "<Figure size 432x288 with 1 Axes>"
      ]
     },
     "metadata": {
      "needs_background": "light"
     },
     "output_type": "display_data"
    }
   ],
   "source": [
    "df.T.plot(kind='bar')"
   ]
  },
  {
   "cell_type": "code",
   "execution_count": null,
   "metadata": {},
   "outputs": [],
   "source": []
  },
  {
   "cell_type": "code",
   "execution_count": null,
   "metadata": {},
   "outputs": [],
   "source": []
  }
 ],
 "metadata": {
  "kernelspec": {
   "display_name": "Python 3",
   "language": "python",
   "name": "python3"
  },
  "language_info": {
   "codemirror_mode": {
    "name": "ipython",
    "version": 3
   },
   "file_extension": ".py",
   "mimetype": "text/x-python",
   "name": "python",
   "nbconvert_exporter": "python",
   "pygments_lexer": "ipython3",
   "version": "3.8.3"
  }
 },
 "nbformat": 4,
 "nbformat_minor": 4
}
